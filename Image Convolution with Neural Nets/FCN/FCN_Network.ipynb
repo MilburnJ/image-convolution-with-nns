{
  "nbformat": 4,
  "nbformat_minor": 0,
  "metadata": {
    "colab": {
      "provenance": [],
      "machine_shape": "hm",
      "gpuType": "A100"
    },
    "kernelspec": {
      "name": "python3",
      "display_name": "Python 3"
    },
    "language_info": {
      "name": "python"
    },
    "accelerator": "GPU"
  },
  "cells": [
    {
      "cell_type": "markdown",
      "source": [
        "Install Required Libraries"
      ],
      "metadata": {
        "id": "CBFg9XuNOeP7"
      }
    },
    {
      "cell_type": "code",
      "execution_count": 1,
      "metadata": {
        "colab": {
          "base_uri": "https://localhost:8080/"
        },
        "id": "bAC0REVFN_X1",
        "outputId": "b89105f3-19dd-43f4-9c28-b667570f31b1"
      },
      "outputs": [
        {
          "output_type": "stream",
          "name": "stdout",
          "text": [
            "Requirement already satisfied: torch in /usr/local/lib/python3.10/dist-packages (2.5.1+cu121)\n",
            "Requirement already satisfied: torchvision in /usr/local/lib/python3.10/dist-packages (0.20.1+cu121)\n",
            "Requirement already satisfied: matplotlib in /usr/local/lib/python3.10/dist-packages (3.8.0)\n",
            "Requirement already satisfied: Pillow in /usr/local/lib/python3.10/dist-packages (11.0.0)\n",
            "Requirement already satisfied: filelock in /usr/local/lib/python3.10/dist-packages (from torch) (3.16.1)\n",
            "Requirement already satisfied: typing-extensions>=4.8.0 in /usr/local/lib/python3.10/dist-packages (from torch) (4.12.2)\n",
            "Requirement already satisfied: networkx in /usr/local/lib/python3.10/dist-packages (from torch) (3.4.2)\n",
            "Requirement already satisfied: jinja2 in /usr/local/lib/python3.10/dist-packages (from torch) (3.1.4)\n",
            "Requirement already satisfied: fsspec in /usr/local/lib/python3.10/dist-packages (from torch) (2024.10.0)\n",
            "Requirement already satisfied: sympy==1.13.1 in /usr/local/lib/python3.10/dist-packages (from torch) (1.13.1)\n",
            "Requirement already satisfied: mpmath<1.4,>=1.1.0 in /usr/local/lib/python3.10/dist-packages (from sympy==1.13.1->torch) (1.3.0)\n",
            "Requirement already satisfied: numpy in /usr/local/lib/python3.10/dist-packages (from torchvision) (1.26.4)\n",
            "Requirement already satisfied: contourpy>=1.0.1 in /usr/local/lib/python3.10/dist-packages (from matplotlib) (1.3.1)\n",
            "Requirement already satisfied: cycler>=0.10 in /usr/local/lib/python3.10/dist-packages (from matplotlib) (0.12.1)\n",
            "Requirement already satisfied: fonttools>=4.22.0 in /usr/local/lib/python3.10/dist-packages (from matplotlib) (4.55.1)\n",
            "Requirement already satisfied: kiwisolver>=1.0.1 in /usr/local/lib/python3.10/dist-packages (from matplotlib) (1.4.7)\n",
            "Requirement already satisfied: packaging>=20.0 in /usr/local/lib/python3.10/dist-packages (from matplotlib) (24.2)\n",
            "Requirement already satisfied: pyparsing>=2.3.1 in /usr/local/lib/python3.10/dist-packages (from matplotlib) (3.2.0)\n",
            "Requirement already satisfied: python-dateutil>=2.7 in /usr/local/lib/python3.10/dist-packages (from matplotlib) (2.8.2)\n",
            "Requirement already satisfied: six>=1.5 in /usr/local/lib/python3.10/dist-packages (from python-dateutil>=2.7->matplotlib) (1.16.0)\n",
            "Requirement already satisfied: MarkupSafe>=2.0 in /usr/local/lib/python3.10/dist-packages (from jinja2->torch) (3.0.2)\n"
          ]
        }
      ],
      "source": [
        "# Install necessary libraries\n",
        "!pip install torch torchvision matplotlib Pillow\n",
        "\n",
        "# Import required libraries\n",
        "import torch\n",
        "from torchvision import models, transforms\n",
        "from PIL import Image\n",
        "import matplotlib.pyplot as plt\n",
        "import numpy as np\n",
        "import os\n"
      ]
    },
    {
      "cell_type": "markdown",
      "source": [
        "Prepare Images"
      ],
      "metadata": {
        "id": "YuvDoEJ1QgiH"
      }
    },
    {
      "cell_type": "code",
      "source": [
        "from google.colab import drive\n",
        "drive.mount('/content/drive')\n",
        "\n",
        "# Path to the folder containing the images\n",
        "image_folder = '/content/drive/MyDrive/fcn_images'\n",
        "\n",
        "# List the image files\n",
        "image_files = [os.path.join(image_folder, f) for f in os.listdir(image_folder) if f.endswith(('.jpg', '.png'))]\n",
        "\n",
        "# Define transformations for resizing, normalizing, and converting to tensor\n",
        "data_transforms = transforms.Compose([\n",
        "    transforms.Resize((256, 256)),  # Resize images\n",
        "    transforms.ToTensor(),  # Convert to tensor\n",
        "    transforms.Normalize(mean=[0.485, 0.456, 0.406], std=[0.229, 0.224, 0.225])  # Normalize\n",
        "])\n"
      ],
      "metadata": {
        "colab": {
          "base_uri": "https://localhost:8080/"
        },
        "id": "Sm26jCwdO5Ai",
        "outputId": "ea8b23c5-fe9c-410d-fa39-9d4ba770a03a"
      },
      "execution_count": 3,
      "outputs": [
        {
          "output_type": "stream",
          "name": "stdout",
          "text": [
            "Mounted at /content/drive\n"
          ]
        }
      ]
    },
    {
      "cell_type": "markdown",
      "source": [
        "Load Pre-trained FCN Network"
      ],
      "metadata": {
        "id": "8hwLgjTwQ8us"
      }
    },
    {
      "cell_type": "code",
      "source": [
        "# Load pretrained FCN model\n",
        "model = models.segmentation.fcn_resnet50(pretrained=True)\n",
        "model.eval()  # Set model to evaluation mode\n",
        "\n",
        "# Move model to GPU if available\n",
        "device = torch.device('cuda:0' if torch.cuda.is_available() else 'cpu')\n",
        "model = model.to(device)\n"
      ],
      "metadata": {
        "colab": {
          "base_uri": "https://localhost:8080/"
        },
        "id": "0dvMuYKdRBYU",
        "outputId": "9a6de64c-70d8-4eca-b5c0-282e1729bce2"
      },
      "execution_count": 4,
      "outputs": [
        {
          "output_type": "stream",
          "name": "stderr",
          "text": [
            "/usr/local/lib/python3.10/dist-packages/torchvision/models/_utils.py:208: UserWarning: The parameter 'pretrained' is deprecated since 0.13 and may be removed in the future, please use 'weights' instead.\n",
            "  warnings.warn(\n",
            "/usr/local/lib/python3.10/dist-packages/torchvision/models/_utils.py:223: UserWarning: Arguments other than a weight enum or `None` for 'weights' are deprecated since 0.13 and may be removed in the future. The current behavior is equivalent to passing `weights=FCN_ResNet50_Weights.COCO_WITH_VOC_LABELS_V1`. You can also use `weights=FCN_ResNet50_Weights.DEFAULT` to get the most up-to-date weights.\n",
            "  warnings.warn(msg)\n",
            "Downloading: \"https://download.pytorch.org/models/fcn_resnet50_coco-1167a1af.pth\" to /root/.cache/torch/hub/checkpoints/fcn_resnet50_coco-1167a1af.pth\n",
            "100%|██████████| 135M/135M [00:00<00:00, 183MB/s]\n"
          ]
        }
      ]
    },
    {
      "cell_type": "markdown",
      "source": [
        "Define Helper Functions"
      ],
      "metadata": {
        "id": "XLyoXto_REsY"
      }
    },
    {
      "cell_type": "code",
      "source": [
        "def save_feature_maps(output, save_folder, image_name):\n",
        "    \"\"\"\n",
        "    Save the 21 feature maps as tiles in one image, in the same folder as the original images.\n",
        "    \"\"\"\n",
        "    feature_maps = output['out'].squeeze(0).detach().cpu().numpy()  # Extract feature maps\n",
        "    num_maps = feature_maps.shape[0]\n",
        "    grid_size = int(np.ceil(np.sqrt(num_maps)))  # Determine grid size for tiles\n",
        "    fig, axes = plt.subplots(grid_size, grid_size, figsize=(15, 15))\n",
        "\n",
        "    for i, ax in enumerate(axes.flat):\n",
        "        if i < num_maps:\n",
        "            ax.imshow(feature_maps[i], cmap='viridis')\n",
        "        ax.axis('off')\n",
        "    plt.tight_layout()\n",
        "    save_path = os.path.join(save_folder, f\"{image_name}_feature_maps.png\")\n",
        "    plt.savefig(save_path)\n",
        "    plt.close()\n",
        "\n",
        "def create_segmentation(output, save_folder, image_name):\n",
        "    \"\"\"\n",
        "    Create a segmentation image where each color represents one class,\n",
        "    and save it in the same folder as the original images.\n",
        "    \"\"\"\n",
        "    seg_map = torch.argmax(output['out'], dim=1).squeeze(0).cpu().numpy()  # Get class indices\n",
        "    # Use a random color map for visualization\n",
        "    colormap = np.random.randint(0, 255, (21, 3), dtype=np.uint8)  # 21 classes\n",
        "    segmentation = colormap[seg_map]  # Map class indices to colors\n",
        "    plt.imshow(segmentation)\n",
        "    plt.axis('off')\n",
        "    save_path = os.path.join(save_folder, f\"{image_name}_segmentation.png\")\n",
        "    plt.savefig(save_path)\n",
        "    plt.close()\n"
      ],
      "metadata": {
        "id": "7_68GMylRGLY"
      },
      "execution_count": 7,
      "outputs": []
    },
    {
      "cell_type": "markdown",
      "source": [
        "Process each image"
      ],
      "metadata": {
        "id": "W3m9s9FIRO92"
      }
    },
    {
      "cell_type": "code",
      "source": [
        "for image_file in image_files:\n",
        "    # Load and preprocess the image\n",
        "    img = Image.open(image_file).convert('RGB')\n",
        "    input_tensor = data_transforms(img).unsqueeze(0).to(device)\n",
        "\n",
        "    # Get the network output\n",
        "    with torch.no_grad():\n",
        "        output = model(input_tensor)\n",
        "\n",
        "    # Save feature maps and segmentation in the same folder as the original images\n",
        "    image_name = os.path.splitext(os.path.basename(image_file))[0]\n",
        "    save_folder = os.path.dirname(image_file)  # Get the folder path of the original image\n",
        "    save_feature_maps(output, save_folder, image_name)\n",
        "    create_segmentation(output, save_folder, image_name)\n",
        "\n",
        "    print(f\"Processed and saved results for {image_file}\")\n"
      ],
      "metadata": {
        "colab": {
          "base_uri": "https://localhost:8080/"
        },
        "id": "4Q4pG1U_RQSJ",
        "outputId": "32fd210b-7be9-423b-b904-6bf292f2369e"
      },
      "execution_count": 8,
      "outputs": [
        {
          "output_type": "stream",
          "name": "stdout",
          "text": [
            "Processed and saved results for /content/drive/MyDrive/fcn_images/farm_animals.jpg\n",
            "Processed and saved results for /content/drive/MyDrive/fcn_images/farm_animals2.jpg\n",
            "Processed and saved results for /content/drive/MyDrive/fcn_images/living_room.jpg\n",
            "Processed and saved results for /content/drive/MyDrive/fcn_images/living_room2.jpg\n",
            "Processed and saved results for /content/drive/MyDrive/fcn_images/city_street.jpg\n"
          ]
        }
      ]
    }
  ]
}